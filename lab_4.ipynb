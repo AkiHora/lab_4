{
  "nbformat": 4,
  "nbformat_minor": 0,
  "metadata": {
    "colab": {
      "name": "lab_4",
      "provenance": []
    },
    "kernelspec": {
      "name": "python3",
      "display_name": "Python 3"
    }
  },
  "cells": [
    {
      "cell_type": "code",
      "metadata": {
        "id": "tw9YhGR-7d9J"
      },
      "source": [
        "import  matplotlib.pyplot as plt\n",
        "import numpy as np\n",
        "\n",
        "\n",
        "def point_inside_polygon(x, y, poly, include_edges=True):\n",
        "    n = len(poly)\n",
        "    inside = False\n",
        "\n",
        "\n",
        "    p1x, p1y = poly[0]\n",
        "    for i in range(1, n + 1):\n",
        "        p2x, p2y = poly[i % n]\n",
        "        if p1y == p2y:  # проверка что по оси у идёт прямая, парарельная х\n",
        "            if y == p1y:  # попала ли наша точка на ось у\n",
        "                if min(p1x, p2x) <= x <= max(p1x, p2x):  # проверка лежит ли точка на ребре между вершинами по х\n",
        "                    inside = include_edges\n",
        "                    break\n",
        "                elif x < min(p1x, p2x):  # точка лежит левее\n",
        "                    inside = not inside\n",
        "        else:  # p1y!= p2y\n",
        "            if min(p1y, p2y) <= y <= max(p1y, p2y):  # проверка лежит ли точка на ребре между вершинами по у\n",
        "                xinters = (y - p1y) * (p2x - p1x) / float(p2y - p1y) + p1x\n",
        "\n",
        "\n",
        "                if x == xinters:  # точка правее расматриваемого ребра\n",
        "                    inside = include_edges\n",
        "                    break\n",
        "\n",
        "\n",
        "                if x < xinters:  # точка левее ребра\n",
        "                    inside = not inside\n",
        "\n",
        "\n",
        "        p1x, p1y = p2x, p2y\n",
        "\n",
        "\n",
        "    return inside\n",
        "\n",
        "def drow(x, y, poly):\n",
        "    poly_ = np.vstack((poly, poly[0].T))\n",
        "    plt.plot(poly_.T[0], poly_.T[1])\n",
        "    plt.plot(x, y, 'o')\n",
        "    plt.show()"
      ],
      "execution_count": null,
      "outputs": []
    },
    {
      "cell_type": "code",
      "metadata": {
        "id": "X-hfLPBYJNbz",
        "outputId": "1a24ccbf-aed5-4441-efbc-44df712b1a2b",
        "colab": {
          "base_uri": "https://localhost:8080/",
          "height": 282
        }
      },
      "source": [
        "poly = np.array(\n",
        "    [[0,0],[0,1],[1,1],[1,0]]\n",
        ")\n",
        "x, y = (0.5, 0.5)\n",
        "\n",
        "drow(x, y, poly)\n",
        "point_inside_polygon(x, y, poly)"
      ],
      "execution_count": null,
      "outputs": [
        {
          "output_type": "display_data",
          "data": {
            "image/png": "[encoded data removed]",
            "text/plain": [
              "<Figure size 432x288 with 1 Axes>"
            ]
          },
          "metadata": {
            "tags": [],
            "needs_background": "light"
          }
        },
        {
          "output_type": "execute_result",
          "data": {
            "text/plain": [
              "True"
            ]
          },
          "metadata": {
            "tags": []
          },
          "execution_count": 59
        }
      ]
    },
    {
      "cell_type": "code",
      "metadata": {
        "id": "GLzwr4o7LpE2",
        "outputId": "7f19be3b-256d-4889-80f3-94e069e0bdf9",
        "colab": {
          "base_uri": "https://localhost:8080/",
          "height": 282
        }
      },
      "source": [
        "point = (3.1, 1.5)\n",
        "poly = np.array(\n",
        "    [[0,0],\n",
        "     [3,1],\n",
        "     [3,0],\n",
        "     [5,1],\n",
        "     [0,4]]\n",
        ")\n",
        "drow(x, y, poly)\n",
        "point_inside_polygon(x, y, poly)"
      ],
      "execution_count": null,
      "outputs": [
        {
          "output_type": "display_data",
          "data": {
            "image/png": "[encoded data removed]",
            "text/plain": [
              "<Figure size 432x288 with 1 Axes>"
            ]
          },
          "metadata": {
            "tags": [],
            "needs_background": "light"
          }
        },
        {
          "output_type": "execute_result",
          "data": {
            "text/plain": [
              "True"
            ]
          },
          "metadata": {
            "tags": []
          },
          "execution_count": 61
        }
      ]
    },
    {
      "cell_type": "code",
      "metadata": {
        "id": "P9pN5OamOuCx"
      },
      "source": [
        ""
      ],
      "execution_count": null,
      "outputs": []
    }
  ]
}